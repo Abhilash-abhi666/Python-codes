{
  "nbformat": 4,
  "nbformat_minor": 0,
  "metadata": {
    "colab": {
      "provenance": [],
      "authorship_tag": "ABX9TyNi6COq/anA5JE0jL4qtR8f",
      "include_colab_link": true
    },
    "kernelspec": {
      "name": "python3",
      "display_name": "Python 3"
    },
    "language_info": {
      "name": "python"
    }
  },
  "cells": [
    {
      "cell_type": "markdown",
      "metadata": {
        "id": "view-in-github",
        "colab_type": "text"
      },
      "source": [
        "<a href=\"https://colab.research.google.com/github/Abhilash-abhi666/Python-codes/blob/main/class_student.ipynb\" target=\"_parent\"><img src=\"https://colab.research.google.com/assets/colab-badge.svg\" alt=\"Open In Colab\"/></a>"
      ]
    },
    {
      "cell_type": "markdown",
      "source": [
        "#2 (a) Define a class ’student’ in python. The class variables are:\n",
        "i. n students - this will keep record of number of student objects initialized.\n",
        "ii. name - This will store the name of each student.\n",
        "iii. roll - this will store the roll numbers of each student. The latest student will have the last roll\n",
        "number.\n",
        "iv. score dict - this will be a dictionary, which will store the marks of subjects ”Physics”, ”Chem\u0002istry”, and ”Maths”, each out of 100.\n",
        "The member functions are as follows:\n",
        "i. init (self,name) - The constructor. Name should be passed to this constructor. It should\n",
        "initialize the roll number implicitly, based on the number of students, n students.\n",
        "ii. setScores(self,dict) - This function will initialize score dict for each student with dict argument.\n",
        "iii. getResult(self) - This function will return ”PASS” if the total score > 30percent for a student.\n",
        "Otherwise it returns ”FAIL”.\n",
        "Provide a MWE for 3 students."
      ],
      "metadata": {
        "id": "oL3EdrDH7gNQ"
      }
    },
    {
      "cell_type": "markdown",
      "source": [],
      "metadata": {
        "id": "rjYuZS2y7d7P"
      }
    },
    {
      "cell_type": "code",
      "source": [
        "class student()\n"
      ],
      "metadata": {
        "id": "1eqqYNBd735-"
      },
      "execution_count": null,
      "outputs": []
    }
  ]
}