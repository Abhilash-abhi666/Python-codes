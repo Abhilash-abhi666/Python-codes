{
  "nbformat": 4,
  "nbformat_minor": 0,
  "metadata": {
    "colab": {
      "provenance": [],
      "authorship_tag": "ABX9TyPy8eE5N3iAMOdwCEAvNXLn",
      "include_colab_link": true
    },
    "kernelspec": {
      "name": "python3",
      "display_name": "Python 3"
    },
    "language_info": {
      "name": "python"
    }
  },
  "cells": [
    {
      "cell_type": "markdown",
      "metadata": {
        "id": "view-in-github",
        "colab_type": "text"
      },
      "source": [
        "<a href=\"https://colab.research.google.com/github/Abhilash-abhi666/Python-codes/blob/main/class_student.ipynb\" target=\"_parent\"><img src=\"https://colab.research.google.com/assets/colab-badge.svg\" alt=\"Open In Colab\"/></a>"
      ]
    },
    {
      "cell_type": "markdown",
      "source": [
        "#2 (a) Define a class ’student’ in python. The class variables are:\n",
        "i. n students - this will keep record of number of student objects initialized.\n",
        "ii. name - This will store the name of each student.\n",
        "iii. roll - this will store the roll numbers of each student. The latest student will have the last roll\n",
        "number.\n",
        "iv. score dict - this will be a dictionary, which will store the marks of subjects ”Physics”, ”Chem\u0002istry”, and ”Maths”, each out of 100.\n",
        "The member functions are as follows:\n",
        "i. init (self,name) - The constructor. Name should be passed to this constructor. It should\n",
        "initialize the roll number implicitly, based on the number of students, n students.\n",
        "ii. setScores(self,dict) - This function will initialize score dict for each student with dict argument.\n",
        "iii. getResult(self) - This function will return ”PASS” if the total score > 30percent for a student.\n",
        "Otherwise it returns ”FAIL”.\n",
        "Provide a MWE for 3 students."
      ],
      "metadata": {
        "id": "oL3EdrDH7gNQ"
      }
    },
    {
      "cell_type": "markdown",
      "source": [],
      "metadata": {
        "id": "rjYuZS2y7d7P"
      }
    },
    {
      "cell_type": "code",
      "source": [
        "class student:\n",
        "  n_students=0\n",
        "  name=\" \"\n",
        "  roll=0\n",
        "  score_dict={\"Physics\":[],\"chemistry\":[],\"Maths\":[]}\n",
        "\n",
        "  def __init__ (self,name1):\n",
        "    name=name1\n",
        "    self.n_students=self.n_students+1\n",
        "    self.roll=self.n_students\n",
        "\n",
        "  def setScores(self,dict):\n",
        "    self.score_dict=dict\n",
        "\n",
        "  def getResult(self):\n",
        "    if (sum(self.score_dict)>30):\n",
        "      return Pass\n",
        "    else:\n",
        "      return fail"
      ],
      "metadata": {
        "id": "1eqqYNBd735-"
      },
      "execution_count": 5,
      "outputs": []
    },
    {
      "cell_type": "code",
      "source": [
        "s=student(\"abhi\")\n",
        "\n",
        "s.getResult()"
      ],
      "metadata": {
        "colab": {
          "base_uri": "https://localhost:8080/",
          "height": 444
        },
        "id": "kXyS26MT_Q33",
        "outputId": "4d2dcac9-9d71-45e7-cde2-1ae728dbf110"
      },
      "execution_count": 7,
      "outputs": [
        {
          "output_type": "error",
          "ename": "TypeError",
          "evalue": "ignored",
          "traceback": [
            "\u001b[0;31m---------------------------------------------------------------------------\u001b[0m",
            "\u001b[0;31mTypeError\u001b[0m                                 Traceback (most recent call last)",
            "\u001b[0;32m<ipython-input-7-0252a69dce94>\u001b[0m in \u001b[0;36m<cell line: 3>\u001b[0;34m()\u001b[0m\n\u001b[1;32m      1\u001b[0m \u001b[0ms\u001b[0m\u001b[0;34m=\u001b[0m\u001b[0mstudent\u001b[0m\u001b[0;34m(\u001b[0m\u001b[0;34m\"abhi\"\u001b[0m\u001b[0;34m)\u001b[0m\u001b[0;34m\u001b[0m\u001b[0;34m\u001b[0m\u001b[0m\n\u001b[1;32m      2\u001b[0m \u001b[0;34m\u001b[0m\u001b[0m\n\u001b[0;32m----> 3\u001b[0;31m \u001b[0ms\u001b[0m\u001b[0;34m.\u001b[0m\u001b[0mgetResult\u001b[0m\u001b[0;34m(\u001b[0m\u001b[0;34m)\u001b[0m\u001b[0;34m\u001b[0m\u001b[0;34m\u001b[0m\u001b[0m\n\u001b[0m",
            "\u001b[0;32m<ipython-input-5-364a88840d40>\u001b[0m in \u001b[0;36mgetResult\u001b[0;34m(self)\u001b[0m\n\u001b[1;32m     14\u001b[0m \u001b[0;34m\u001b[0m\u001b[0m\n\u001b[1;32m     15\u001b[0m   \u001b[0;32mdef\u001b[0m \u001b[0mgetResult\u001b[0m\u001b[0;34m(\u001b[0m\u001b[0mself\u001b[0m\u001b[0;34m)\u001b[0m\u001b[0;34m:\u001b[0m\u001b[0;34m\u001b[0m\u001b[0;34m\u001b[0m\u001b[0m\n\u001b[0;32m---> 16\u001b[0;31m     \u001b[0;32mif\u001b[0m \u001b[0;34m(\u001b[0m\u001b[0msum\u001b[0m\u001b[0;34m(\u001b[0m\u001b[0mself\u001b[0m\u001b[0;34m.\u001b[0m\u001b[0mscore_dict\u001b[0m\u001b[0;34m)\u001b[0m\u001b[0;34m>\u001b[0m\u001b[0;36m30\u001b[0m\u001b[0;34m)\u001b[0m\u001b[0;34m:\u001b[0m\u001b[0;34m\u001b[0m\u001b[0;34m\u001b[0m\u001b[0m\n\u001b[0m\u001b[1;32m     17\u001b[0m       \u001b[0;32mreturn\u001b[0m \u001b[0mPass\u001b[0m\u001b[0;34m\u001b[0m\u001b[0;34m\u001b[0m\u001b[0m\n\u001b[1;32m     18\u001b[0m     \u001b[0;32melse\u001b[0m\u001b[0;34m:\u001b[0m\u001b[0;34m\u001b[0m\u001b[0;34m\u001b[0m\u001b[0m\n",
            "\u001b[0;31mTypeError\u001b[0m: unsupported operand type(s) for +: 'int' and 'str'"
          ]
        }
      ]
    },
    {
      "cell_type": "markdown",
      "source": [],
      "metadata": {
        "id": "k-6yPPQVrg44"
      }
    }
  ]
}